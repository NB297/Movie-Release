{
 "cells": [
  {
   "cell_type": "code",
   "execution_count": 9,
   "metadata": {
    "execution": {
     "iopub.execute_input": "2022-08-02T19:13:32.441938Z",
     "iopub.status.busy": "2022-08-02T19:13:32.441510Z",
     "iopub.status.idle": "2022-08-02T19:13:32.449859Z",
     "shell.execute_reply": "2022-08-02T19:13:32.448746Z",
     "shell.execute_reply.started": "2022-08-02T19:13:32.441902Z"
    }
   },
   "outputs": [],
   "source": [
    "# Import libraries\n",
    "\n",
    "import numpy as np\n",
    "import pandas as pd\n",
    "import matplotlib.pyplot as plt\n",
    "import seaborn as sns\n",
    "\n",
    "sns.set_style('whitegrid')"
   ]
  },
  {
   "cell_type": "code",
   "execution_count": 16,
   "metadata": {
    "execution": {
     "iopub.execute_input": "2022-08-02T19:13:32.457890Z",
     "iopub.status.busy": "2022-08-02T19:13:32.457524Z",
     "iopub.status.idle": "2022-08-02T19:13:32.526402Z",
     "shell.execute_reply": "2022-08-02T19:13:32.525376Z",
     "shell.execute_reply.started": "2022-08-02T19:13:32.457859Z"
    }
   },
   "outputs": [],
   "source": [
    "# Import the dataset\n",
    "\n",
    "movies_df = pd.read_csv(\"movies.csv\")"
   ]
  },
  {
   "cell_type": "code",
   "execution_count": 17,
   "metadata": {
    "execution": {
     "iopub.execute_input": "2022-08-02T19:13:32.533541Z",
     "iopub.status.busy": "2022-08-02T19:13:32.531402Z",
     "iopub.status.idle": "2022-08-02T19:13:32.575302Z",
     "shell.execute_reply": "2022-08-02T19:13:32.574059Z",
     "shell.execute_reply.started": "2022-08-02T19:13:32.533502Z"
    }
   },
   "outputs": [
    {
     "data": {
      "text/html": [
       "<div>\n",
       "<style scoped>\n",
       "    .dataframe tbody tr th:only-of-type {\n",
       "        vertical-align: middle;\n",
       "    }\n",
       "\n",
       "    .dataframe tbody tr th {\n",
       "        vertical-align: top;\n",
       "    }\n",
       "\n",
       "    .dataframe thead th {\n",
       "        text-align: right;\n",
       "    }\n",
       "</style>\n",
       "<table border=\"1\" class=\"dataframe\">\n",
       "  <thead>\n",
       "    <tr style=\"text-align: right;\">\n",
       "      <th></th>\n",
       "      <th>name</th>\n",
       "      <th>rating</th>\n",
       "      <th>genre</th>\n",
       "      <th>year</th>\n",
       "      <th>released</th>\n",
       "      <th>score</th>\n",
       "      <th>votes</th>\n",
       "      <th>director</th>\n",
       "      <th>writer</th>\n",
       "      <th>star</th>\n",
       "      <th>country</th>\n",
       "      <th>budget</th>\n",
       "      <th>gross</th>\n",
       "      <th>company</th>\n",
       "      <th>runtime</th>\n",
       "    </tr>\n",
       "  </thead>\n",
       "  <tbody>\n",
       "    <tr>\n",
       "      <th>0</th>\n",
       "      <td>The Shining</td>\n",
       "      <td>R</td>\n",
       "      <td>Drama</td>\n",
       "      <td>1980</td>\n",
       "      <td>June 13, 1980 (United States)</td>\n",
       "      <td>8.4</td>\n",
       "      <td>927000.0</td>\n",
       "      <td>Stanley Kubrick</td>\n",
       "      <td>Stephen King</td>\n",
       "      <td>Jack Nicholson</td>\n",
       "      <td>United Kingdom</td>\n",
       "      <td>19000000.0</td>\n",
       "      <td>46998772.0</td>\n",
       "      <td>Warner Bros.</td>\n",
       "      <td>146.0</td>\n",
       "    </tr>\n",
       "    <tr>\n",
       "      <th>1</th>\n",
       "      <td>The Blue Lagoon</td>\n",
       "      <td>R</td>\n",
       "      <td>Adventure</td>\n",
       "      <td>1980</td>\n",
       "      <td>July 2, 1980 (United States)</td>\n",
       "      <td>5.8</td>\n",
       "      <td>65000.0</td>\n",
       "      <td>Randal Kleiser</td>\n",
       "      <td>Henry De Vere Stacpoole</td>\n",
       "      <td>Brooke Shields</td>\n",
       "      <td>United States</td>\n",
       "      <td>4500000.0</td>\n",
       "      <td>58853106.0</td>\n",
       "      <td>Columbia Pictures</td>\n",
       "      <td>104.0</td>\n",
       "    </tr>\n",
       "    <tr>\n",
       "      <th>2</th>\n",
       "      <td>Star Wars: Episode V - The Empire Strikes Back</td>\n",
       "      <td>PG</td>\n",
       "      <td>Action</td>\n",
       "      <td>1980</td>\n",
       "      <td>June 20, 1980 (United States)</td>\n",
       "      <td>8.7</td>\n",
       "      <td>1200000.0</td>\n",
       "      <td>Irvin Kershner</td>\n",
       "      <td>Leigh Brackett</td>\n",
       "      <td>Mark Hamill</td>\n",
       "      <td>United States</td>\n",
       "      <td>18000000.0</td>\n",
       "      <td>538375067.0</td>\n",
       "      <td>Lucasfilm</td>\n",
       "      <td>124.0</td>\n",
       "    </tr>\n",
       "    <tr>\n",
       "      <th>3</th>\n",
       "      <td>Airplane!</td>\n",
       "      <td>PG</td>\n",
       "      <td>Comedy</td>\n",
       "      <td>1980</td>\n",
       "      <td>July 2, 1980 (United States)</td>\n",
       "      <td>7.7</td>\n",
       "      <td>221000.0</td>\n",
       "      <td>Jim Abrahams</td>\n",
       "      <td>Jim Abrahams</td>\n",
       "      <td>Robert Hays</td>\n",
       "      <td>United States</td>\n",
       "      <td>3500000.0</td>\n",
       "      <td>83453539.0</td>\n",
       "      <td>Paramount Pictures</td>\n",
       "      <td>88.0</td>\n",
       "    </tr>\n",
       "    <tr>\n",
       "      <th>4</th>\n",
       "      <td>Caddyshack</td>\n",
       "      <td>R</td>\n",
       "      <td>Comedy</td>\n",
       "      <td>1980</td>\n",
       "      <td>July 25, 1980 (United States)</td>\n",
       "      <td>7.3</td>\n",
       "      <td>108000.0</td>\n",
       "      <td>Harold Ramis</td>\n",
       "      <td>Brian Doyle-Murray</td>\n",
       "      <td>Chevy Chase</td>\n",
       "      <td>United States</td>\n",
       "      <td>6000000.0</td>\n",
       "      <td>39846344.0</td>\n",
       "      <td>Orion Pictures</td>\n",
       "      <td>98.0</td>\n",
       "    </tr>\n",
       "  </tbody>\n",
       "</table>\n",
       "</div>"
      ],
      "text/plain": [
       "                                             name rating      genre  year  \\\n",
       "0                                     The Shining      R      Drama  1980   \n",
       "1                                 The Blue Lagoon      R  Adventure  1980   \n",
       "2  Star Wars: Episode V - The Empire Strikes Back     PG     Action  1980   \n",
       "3                                       Airplane!     PG     Comedy  1980   \n",
       "4                                      Caddyshack      R     Comedy  1980   \n",
       "\n",
       "                        released  score      votes         director  \\\n",
       "0  June 13, 1980 (United States)    8.4   927000.0  Stanley Kubrick   \n",
       "1   July 2, 1980 (United States)    5.8    65000.0   Randal Kleiser   \n",
       "2  June 20, 1980 (United States)    8.7  1200000.0   Irvin Kershner   \n",
       "3   July 2, 1980 (United States)    7.7   221000.0     Jim Abrahams   \n",
       "4  July 25, 1980 (United States)    7.3   108000.0     Harold Ramis   \n",
       "\n",
       "                    writer            star         country      budget  \\\n",
       "0             Stephen King  Jack Nicholson  United Kingdom  19000000.0   \n",
       "1  Henry De Vere Stacpoole  Brooke Shields   United States   4500000.0   \n",
       "2           Leigh Brackett     Mark Hamill   United States  18000000.0   \n",
       "3             Jim Abrahams     Robert Hays   United States   3500000.0   \n",
       "4       Brian Doyle-Murray     Chevy Chase   United States   6000000.0   \n",
       "\n",
       "         gross             company  runtime  \n",
       "0   46998772.0        Warner Bros.    146.0  \n",
       "1   58853106.0   Columbia Pictures    104.0  \n",
       "2  538375067.0           Lucasfilm    124.0  \n",
       "3   83453539.0  Paramount Pictures     88.0  \n",
       "4   39846344.0      Orion Pictures     98.0  "
      ]
     },
     "execution_count": 17,
     "metadata": {},
     "output_type": "execute_result"
    }
   ],
   "source": [
    "# Let's see the first 5 rows of the data\n",
    "\n",
    "movies_df.head()"
   ]
  },
  {
   "cell_type": "code",
   "execution_count": 18,
   "metadata": {},
   "outputs": [
    {
     "data": {
      "text/html": [
       "<div>\n",
       "<style scoped>\n",
       "    .dataframe tbody tr th:only-of-type {\n",
       "        vertical-align: middle;\n",
       "    }\n",
       "\n",
       "    .dataframe tbody tr th {\n",
       "        vertical-align: top;\n",
       "    }\n",
       "\n",
       "    .dataframe thead th {\n",
       "        text-align: right;\n",
       "    }\n",
       "</style>\n",
       "<table border=\"1\" class=\"dataframe\">\n",
       "  <thead>\n",
       "    <tr style=\"text-align: right;\">\n",
       "      <th></th>\n",
       "      <th>year</th>\n",
       "      <th>score</th>\n",
       "      <th>votes</th>\n",
       "      <th>budget</th>\n",
       "      <th>gross</th>\n",
       "      <th>runtime</th>\n",
       "    </tr>\n",
       "  </thead>\n",
       "  <tbody>\n",
       "    <tr>\n",
       "      <th>count</th>\n",
       "      <td>7668.000000</td>\n",
       "      <td>7665.000000</td>\n",
       "      <td>7.665000e+03</td>\n",
       "      <td>5.497000e+03</td>\n",
       "      <td>7.479000e+03</td>\n",
       "      <td>7664.000000</td>\n",
       "    </tr>\n",
       "    <tr>\n",
       "      <th>mean</th>\n",
       "      <td>2000.405451</td>\n",
       "      <td>6.390411</td>\n",
       "      <td>8.810850e+04</td>\n",
       "      <td>3.558988e+07</td>\n",
       "      <td>7.850054e+07</td>\n",
       "      <td>107.261613</td>\n",
       "    </tr>\n",
       "    <tr>\n",
       "      <th>std</th>\n",
       "      <td>11.153508</td>\n",
       "      <td>0.968842</td>\n",
       "      <td>1.633238e+05</td>\n",
       "      <td>4.145730e+07</td>\n",
       "      <td>1.657251e+08</td>\n",
       "      <td>18.581247</td>\n",
       "    </tr>\n",
       "    <tr>\n",
       "      <th>min</th>\n",
       "      <td>1980.000000</td>\n",
       "      <td>1.900000</td>\n",
       "      <td>7.000000e+00</td>\n",
       "      <td>3.000000e+03</td>\n",
       "      <td>3.090000e+02</td>\n",
       "      <td>55.000000</td>\n",
       "    </tr>\n",
       "    <tr>\n",
       "      <th>25%</th>\n",
       "      <td>1991.000000</td>\n",
       "      <td>5.800000</td>\n",
       "      <td>9.100000e+03</td>\n",
       "      <td>1.000000e+07</td>\n",
       "      <td>4.532056e+06</td>\n",
       "      <td>95.000000</td>\n",
       "    </tr>\n",
       "    <tr>\n",
       "      <th>50%</th>\n",
       "      <td>2000.000000</td>\n",
       "      <td>6.500000</td>\n",
       "      <td>3.300000e+04</td>\n",
       "      <td>2.050000e+07</td>\n",
       "      <td>2.020576e+07</td>\n",
       "      <td>104.000000</td>\n",
       "    </tr>\n",
       "    <tr>\n",
       "      <th>75%</th>\n",
       "      <td>2010.000000</td>\n",
       "      <td>7.100000</td>\n",
       "      <td>9.300000e+04</td>\n",
       "      <td>4.500000e+07</td>\n",
       "      <td>7.601669e+07</td>\n",
       "      <td>116.000000</td>\n",
       "    </tr>\n",
       "    <tr>\n",
       "      <th>max</th>\n",
       "      <td>2020.000000</td>\n",
       "      <td>9.300000</td>\n",
       "      <td>2.400000e+06</td>\n",
       "      <td>3.560000e+08</td>\n",
       "      <td>2.847246e+09</td>\n",
       "      <td>366.000000</td>\n",
       "    </tr>\n",
       "  </tbody>\n",
       "</table>\n",
       "</div>"
      ],
      "text/plain": [
       "              year        score         votes        budget         gross  \\\n",
       "count  7668.000000  7665.000000  7.665000e+03  5.497000e+03  7.479000e+03   \n",
       "mean   2000.405451     6.390411  8.810850e+04  3.558988e+07  7.850054e+07   \n",
       "std      11.153508     0.968842  1.633238e+05  4.145730e+07  1.657251e+08   \n",
       "min    1980.000000     1.900000  7.000000e+00  3.000000e+03  3.090000e+02   \n",
       "25%    1991.000000     5.800000  9.100000e+03  1.000000e+07  4.532056e+06   \n",
       "50%    2000.000000     6.500000  3.300000e+04  2.050000e+07  2.020576e+07   \n",
       "75%    2010.000000     7.100000  9.300000e+04  4.500000e+07  7.601669e+07   \n",
       "max    2020.000000     9.300000  2.400000e+06  3.560000e+08  2.847246e+09   \n",
       "\n",
       "           runtime  \n",
       "count  7664.000000  \n",
       "mean    107.261613  \n",
       "std      18.581247  \n",
       "min      55.000000  \n",
       "25%      95.000000  \n",
       "50%     104.000000  \n",
       "75%     116.000000  \n",
       "max     366.000000  "
      ]
     },
     "execution_count": 18,
     "metadata": {},
     "output_type": "execute_result"
    }
   ],
   "source": [
    "movies_df.describe()"
   ]
  },
  {
   "cell_type": "code",
   "execution_count": 19,
   "metadata": {
    "execution": {
     "iopub.execute_input": "2022-08-02T19:13:32.577781Z",
     "iopub.status.busy": "2022-08-02T19:13:32.576874Z",
     "iopub.status.idle": "2022-08-02T19:13:32.584713Z",
     "shell.execute_reply": "2022-08-02T19:13:32.583456Z",
     "shell.execute_reply.started": "2022-08-02T19:13:32.577733Z"
    }
   },
   "outputs": [
    {
     "name": "stdout",
     "output_type": "stream",
     "text": [
      "The data has (7668, 15) rows and columns respectively\n"
     ]
    }
   ],
   "source": [
    "# Let's see the shape of the data\n",
    "\n",
    "movie_shape = movies_df.shape\n",
    "print(f'The data has {movie_shape} rows and columns respectively')"
   ]
  },
  {
   "cell_type": "code",
   "execution_count": 20,
   "metadata": {
    "execution": {
     "iopub.execute_input": "2022-08-02T19:13:32.587610Z",
     "iopub.status.busy": "2022-08-02T19:13:32.586318Z",
     "iopub.status.idle": "2022-08-02T19:13:32.597230Z",
     "shell.execute_reply": "2022-08-02T19:13:32.595942Z",
     "shell.execute_reply.started": "2022-08-02T19:13:32.587564Z"
    }
   },
   "outputs": [
    {
     "data": {
      "text/plain": [
       "Index(['name', 'rating', 'genre', 'year', 'released', 'score', 'votes',\n",
       "       'director', 'writer', 'star', 'country', 'budget', 'gross', 'company',\n",
       "       'runtime'],\n",
       "      dtype='object')"
      ]
     },
     "execution_count": 20,
     "metadata": {},
     "output_type": "execute_result"
    }
   ],
   "source": [
    "# Let's see the 15 columns of the data\n",
    "\n",
    "movies_df.columns"
   ]
  },
  {
   "cell_type": "code",
   "execution_count": 21,
   "metadata": {
    "execution": {
     "iopub.execute_input": "2022-08-02T19:13:32.602512Z",
     "iopub.status.busy": "2022-08-02T19:13:32.601582Z",
     "iopub.status.idle": "2022-08-02T19:13:32.611825Z",
     "shell.execute_reply": "2022-08-02T19:13:32.610661Z",
     "shell.execute_reply.started": "2022-08-02T19:13:32.602475Z"
    },
    "scrolled": true
   },
   "outputs": [
    {
     "data": {
      "text/plain": [
       "name         object\n",
       "rating       object\n",
       "genre        object\n",
       "year          int64\n",
       "released     object\n",
       "score       float64\n",
       "votes       float64\n",
       "director     object\n",
       "writer       object\n",
       "star         object\n",
       "country      object\n",
       "budget      float64\n",
       "gross       float64\n",
       "company      object\n",
       "runtime     float64\n",
       "dtype: object"
      ]
     },
     "execution_count": 21,
     "metadata": {},
     "output_type": "execute_result"
    }
   ],
   "source": [
    "# Let's see the data type of each column in the data\n",
    "\n",
    "movies_df.dtypes"
   ]
  },
  {
   "cell_type": "markdown",
   "metadata": {},
   "source": [
    "### Data Cleaning"
   ]
  },
  {
   "cell_type": "code",
   "execution_count": 22,
   "metadata": {
    "execution": {
     "iopub.execute_input": "2022-08-02T19:13:32.614075Z",
     "iopub.status.busy": "2022-08-02T19:13:32.613656Z",
     "iopub.status.idle": "2022-08-02T19:13:32.628352Z",
     "shell.execute_reply": "2022-08-02T19:13:32.627257Z",
     "shell.execute_reply.started": "2022-08-02T19:13:32.614034Z"
    }
   },
   "outputs": [
    {
     "data": {
      "text/plain": [
       "name           0\n",
       "rating        77\n",
       "genre          0\n",
       "year           0\n",
       "released       2\n",
       "score          3\n",
       "votes          3\n",
       "director       0\n",
       "writer         3\n",
       "star           1\n",
       "country        3\n",
       "budget      2171\n",
       "gross        189\n",
       "company       17\n",
       "runtime        4\n",
       "dtype: int64"
      ]
     },
     "execution_count": 22,
     "metadata": {},
     "output_type": "execute_result"
    }
   ],
   "source": [
    "# Let's check for null values in the data\n",
    "\n",
    "movies_df.isnull().sum()"
   ]
  },
  {
   "cell_type": "code",
   "execution_count": 23,
   "metadata": {
    "execution": {
     "iopub.execute_input": "2022-08-02T19:13:32.630815Z",
     "iopub.status.busy": "2022-08-02T19:13:32.629756Z",
     "iopub.status.idle": "2022-08-02T19:13:32.683356Z",
     "shell.execute_reply": "2022-08-02T19:13:32.682415Z",
     "shell.execute_reply.started": "2022-08-02T19:13:32.630772Z"
    }
   },
   "outputs": [
    {
     "data": {
      "text/html": [
       "<div>\n",
       "<style scoped>\n",
       "    .dataframe tbody tr th:only-of-type {\n",
       "        vertical-align: middle;\n",
       "    }\n",
       "\n",
       "    .dataframe tbody tr th {\n",
       "        vertical-align: top;\n",
       "    }\n",
       "\n",
       "    .dataframe thead th {\n",
       "        text-align: right;\n",
       "    }\n",
       "</style>\n",
       "<table border=\"1\" class=\"dataframe\">\n",
       "  <thead>\n",
       "    <tr style=\"text-align: right;\">\n",
       "      <th></th>\n",
       "      <th>name</th>\n",
       "      <th>rating</th>\n",
       "      <th>genre</th>\n",
       "      <th>year</th>\n",
       "      <th>released</th>\n",
       "      <th>score</th>\n",
       "      <th>votes</th>\n",
       "      <th>director</th>\n",
       "      <th>writer</th>\n",
       "      <th>star</th>\n",
       "      <th>country</th>\n",
       "      <th>budget</th>\n",
       "      <th>gross</th>\n",
       "      <th>company</th>\n",
       "      <th>runtime</th>\n",
       "    </tr>\n",
       "  </thead>\n",
       "  <tbody>\n",
       "    <tr>\n",
       "      <th>16</th>\n",
       "      <td>Fame</td>\n",
       "      <td>R</td>\n",
       "      <td>Drama</td>\n",
       "      <td>1980</td>\n",
       "      <td>May 16, 1980 (United States)</td>\n",
       "      <td>6.6</td>\n",
       "      <td>21000.0</td>\n",
       "      <td>Alan Parker</td>\n",
       "      <td>Christopher Gore</td>\n",
       "      <td>Eddie Barth</td>\n",
       "      <td>United States</td>\n",
       "      <td>NaN</td>\n",
       "      <td>21202829.0</td>\n",
       "      <td>Metro-Goldwyn-Mayer (MGM)</td>\n",
       "      <td>134.0</td>\n",
       "    </tr>\n",
       "    <tr>\n",
       "      <th>19</th>\n",
       "      <td>Stir Crazy</td>\n",
       "      <td>R</td>\n",
       "      <td>Comedy</td>\n",
       "      <td>1980</td>\n",
       "      <td>December 12, 1980 (United States)</td>\n",
       "      <td>6.8</td>\n",
       "      <td>26000.0</td>\n",
       "      <td>Sidney Poitier</td>\n",
       "      <td>Bruce Jay Friedman</td>\n",
       "      <td>Gene Wilder</td>\n",
       "      <td>United States</td>\n",
       "      <td>NaN</td>\n",
       "      <td>101300000.0</td>\n",
       "      <td>Columbia Pictures</td>\n",
       "      <td>111.0</td>\n",
       "    </tr>\n",
       "    <tr>\n",
       "      <th>24</th>\n",
       "      <td>Urban Cowboy</td>\n",
       "      <td>PG</td>\n",
       "      <td>Drama</td>\n",
       "      <td>1980</td>\n",
       "      <td>June 6, 1980 (United States)</td>\n",
       "      <td>6.4</td>\n",
       "      <td>14000.0</td>\n",
       "      <td>James Bridges</td>\n",
       "      <td>Aaron Latham</td>\n",
       "      <td>John Travolta</td>\n",
       "      <td>United States</td>\n",
       "      <td>NaN</td>\n",
       "      <td>46918287.0</td>\n",
       "      <td>Paramount Pictures</td>\n",
       "      <td>132.0</td>\n",
       "    </tr>\n",
       "    <tr>\n",
       "      <th>25</th>\n",
       "      <td>Altered States</td>\n",
       "      <td>R</td>\n",
       "      <td>Horror</td>\n",
       "      <td>1980</td>\n",
       "      <td>December 25, 1980 (United States)</td>\n",
       "      <td>6.9</td>\n",
       "      <td>33000.0</td>\n",
       "      <td>Ken Russell</td>\n",
       "      <td>Paddy Chayefsky</td>\n",
       "      <td>William Hurt</td>\n",
       "      <td>United States</td>\n",
       "      <td>NaN</td>\n",
       "      <td>19853892.0</td>\n",
       "      <td>Warner Bros.</td>\n",
       "      <td>102.0</td>\n",
       "    </tr>\n",
       "    <tr>\n",
       "      <th>26</th>\n",
       "      <td>Little Darlings</td>\n",
       "      <td>R</td>\n",
       "      <td>Comedy</td>\n",
       "      <td>1980</td>\n",
       "      <td>March 21, 1980 (United States)</td>\n",
       "      <td>6.5</td>\n",
       "      <td>5100.0</td>\n",
       "      <td>Ron Maxwell</td>\n",
       "      <td>Kimi Peck</td>\n",
       "      <td>Tatum O'Neal</td>\n",
       "      <td>United States</td>\n",
       "      <td>NaN</td>\n",
       "      <td>34326249.0</td>\n",
       "      <td>Stephen Friedman/Kings Road Productions</td>\n",
       "      <td>96.0</td>\n",
       "    </tr>\n",
       "    <tr>\n",
       "      <th>...</th>\n",
       "      <td>...</td>\n",
       "      <td>...</td>\n",
       "      <td>...</td>\n",
       "      <td>...</td>\n",
       "      <td>...</td>\n",
       "      <td>...</td>\n",
       "      <td>...</td>\n",
       "      <td>...</td>\n",
       "      <td>...</td>\n",
       "      <td>...</td>\n",
       "      <td>...</td>\n",
       "      <td>...</td>\n",
       "      <td>...</td>\n",
       "      <td>...</td>\n",
       "      <td>...</td>\n",
       "    </tr>\n",
       "    <tr>\n",
       "      <th>7663</th>\n",
       "      <td>More to Life</td>\n",
       "      <td>NaN</td>\n",
       "      <td>Drama</td>\n",
       "      <td>2020</td>\n",
       "      <td>October 23, 2020 (United States)</td>\n",
       "      <td>3.1</td>\n",
       "      <td>18.0</td>\n",
       "      <td>Joseph Ebanks</td>\n",
       "      <td>Joseph Ebanks</td>\n",
       "      <td>Shannon Bond</td>\n",
       "      <td>United States</td>\n",
       "      <td>7000.0</td>\n",
       "      <td>NaN</td>\n",
       "      <td>NaN</td>\n",
       "      <td>90.0</td>\n",
       "    </tr>\n",
       "    <tr>\n",
       "      <th>7664</th>\n",
       "      <td>Dream Round</td>\n",
       "      <td>NaN</td>\n",
       "      <td>Comedy</td>\n",
       "      <td>2020</td>\n",
       "      <td>February 7, 2020 (United States)</td>\n",
       "      <td>4.7</td>\n",
       "      <td>36.0</td>\n",
       "      <td>Dusty Dukatz</td>\n",
       "      <td>Lisa Huston</td>\n",
       "      <td>Michael Saquella</td>\n",
       "      <td>United States</td>\n",
       "      <td>NaN</td>\n",
       "      <td>NaN</td>\n",
       "      <td>Cactus Blue Entertainment</td>\n",
       "      <td>90.0</td>\n",
       "    </tr>\n",
       "    <tr>\n",
       "      <th>7665</th>\n",
       "      <td>Saving Mbango</td>\n",
       "      <td>NaN</td>\n",
       "      <td>Drama</td>\n",
       "      <td>2020</td>\n",
       "      <td>April 27, 2020 (Cameroon)</td>\n",
       "      <td>5.7</td>\n",
       "      <td>29.0</td>\n",
       "      <td>Nkanya Nkwai</td>\n",
       "      <td>Lynno Lovert</td>\n",
       "      <td>Onyama Laura</td>\n",
       "      <td>United States</td>\n",
       "      <td>58750.0</td>\n",
       "      <td>NaN</td>\n",
       "      <td>Embi Productions</td>\n",
       "      <td>NaN</td>\n",
       "    </tr>\n",
       "    <tr>\n",
       "      <th>7666</th>\n",
       "      <td>It's Just Us</td>\n",
       "      <td>NaN</td>\n",
       "      <td>Drama</td>\n",
       "      <td>2020</td>\n",
       "      <td>October 1, 2020 (United States)</td>\n",
       "      <td>NaN</td>\n",
       "      <td>NaN</td>\n",
       "      <td>James Randall</td>\n",
       "      <td>James Randall</td>\n",
       "      <td>Christina Roz</td>\n",
       "      <td>United States</td>\n",
       "      <td>15000.0</td>\n",
       "      <td>NaN</td>\n",
       "      <td>NaN</td>\n",
       "      <td>120.0</td>\n",
       "    </tr>\n",
       "    <tr>\n",
       "      <th>7667</th>\n",
       "      <td>Tee em el</td>\n",
       "      <td>NaN</td>\n",
       "      <td>Horror</td>\n",
       "      <td>2020</td>\n",
       "      <td>August 19, 2020 (United States)</td>\n",
       "      <td>5.7</td>\n",
       "      <td>7.0</td>\n",
       "      <td>Pereko Mosia</td>\n",
       "      <td>Pereko Mosia</td>\n",
       "      <td>Siyabonga Mabaso</td>\n",
       "      <td>South Africa</td>\n",
       "      <td>NaN</td>\n",
       "      <td>NaN</td>\n",
       "      <td>PK 65 Films</td>\n",
       "      <td>102.0</td>\n",
       "    </tr>\n",
       "  </tbody>\n",
       "</table>\n",
       "<p>2247 rows × 15 columns</p>\n",
       "</div>"
      ],
      "text/plain": [
       "                 name rating   genre  year                           released  \\\n",
       "16               Fame      R   Drama  1980       May 16, 1980 (United States)   \n",
       "19         Stir Crazy      R  Comedy  1980  December 12, 1980 (United States)   \n",
       "24       Urban Cowboy     PG   Drama  1980       June 6, 1980 (United States)   \n",
       "25     Altered States      R  Horror  1980  December 25, 1980 (United States)   \n",
       "26    Little Darlings      R  Comedy  1980     March 21, 1980 (United States)   \n",
       "...               ...    ...     ...   ...                                ...   \n",
       "7663     More to Life    NaN   Drama  2020   October 23, 2020 (United States)   \n",
       "7664      Dream Round    NaN  Comedy  2020   February 7, 2020 (United States)   \n",
       "7665    Saving Mbango    NaN   Drama  2020          April 27, 2020 (Cameroon)   \n",
       "7666     It's Just Us    NaN   Drama  2020    October 1, 2020 (United States)   \n",
       "7667        Tee em el    NaN  Horror  2020    August 19, 2020 (United States)   \n",
       "\n",
       "      score    votes        director              writer              star  \\\n",
       "16      6.6  21000.0     Alan Parker    Christopher Gore       Eddie Barth   \n",
       "19      6.8  26000.0  Sidney Poitier  Bruce Jay Friedman       Gene Wilder   \n",
       "24      6.4  14000.0   James Bridges        Aaron Latham     John Travolta   \n",
       "25      6.9  33000.0     Ken Russell     Paddy Chayefsky      William Hurt   \n",
       "26      6.5   5100.0     Ron Maxwell           Kimi Peck      Tatum O'Neal   \n",
       "...     ...      ...             ...                 ...               ...   \n",
       "7663    3.1     18.0   Joseph Ebanks       Joseph Ebanks      Shannon Bond   \n",
       "7664    4.7     36.0    Dusty Dukatz         Lisa Huston  Michael Saquella   \n",
       "7665    5.7     29.0    Nkanya Nkwai        Lynno Lovert      Onyama Laura   \n",
       "7666    NaN      NaN   James Randall       James Randall     Christina Roz   \n",
       "7667    5.7      7.0    Pereko Mosia        Pereko Mosia  Siyabonga Mabaso   \n",
       "\n",
       "            country   budget        gross  \\\n",
       "16    United States      NaN   21202829.0   \n",
       "19    United States      NaN  101300000.0   \n",
       "24    United States      NaN   46918287.0   \n",
       "25    United States      NaN   19853892.0   \n",
       "26    United States      NaN   34326249.0   \n",
       "...             ...      ...          ...   \n",
       "7663  United States   7000.0          NaN   \n",
       "7664  United States      NaN          NaN   \n",
       "7665  United States  58750.0          NaN   \n",
       "7666  United States  15000.0          NaN   \n",
       "7667   South Africa      NaN          NaN   \n",
       "\n",
       "                                      company  runtime  \n",
       "16                  Metro-Goldwyn-Mayer (MGM)    134.0  \n",
       "19                          Columbia Pictures    111.0  \n",
       "24                         Paramount Pictures    132.0  \n",
       "25                               Warner Bros.    102.0  \n",
       "26    Stephen Friedman/Kings Road Productions     96.0  \n",
       "...                                       ...      ...  \n",
       "7663                                      NaN     90.0  \n",
       "7664                Cactus Blue Entertainment     90.0  \n",
       "7665                         Embi Productions      NaN  \n",
       "7666                                      NaN    120.0  \n",
       "7667                              PK 65 Films    102.0  \n",
       "\n",
       "[2247 rows x 15 columns]"
      ]
     },
     "execution_count": 23,
     "metadata": {},
     "output_type": "execute_result"
    }
   ],
   "source": [
    "# Let's see the rows with these null values\n",
    "\n",
    "movies_df[movies_df.isnull().any(axis = 1)]"
   ]
  },
  {
   "cell_type": "code",
   "execution_count": 24,
   "metadata": {
    "execution": {
     "iopub.execute_input": "2022-08-02T19:13:32.685346Z",
     "iopub.status.busy": "2022-08-02T19:13:32.684422Z",
     "iopub.status.idle": "2022-08-02T19:13:32.702057Z",
     "shell.execute_reply": "2022-08-02T19:13:32.700785Z",
     "shell.execute_reply.started": "2022-08-02T19:13:32.685307Z"
    }
   },
   "outputs": [
    {
     "data": {
      "text/plain": [
       "(5421, 15)"
      ]
     },
     "execution_count": 24,
     "metadata": {},
     "output_type": "execute_result"
    }
   ],
   "source": [
    "# The rows with the null values are quite much. So let's drop them and check the shape of the data\n",
    "\n",
    "movies_df = movies_df.dropna()\n",
    "movies_df.shape"
   ]
  },
  {
   "cell_type": "code",
   "execution_count": 25,
   "metadata": {
    "execution": {
     "iopub.execute_input": "2022-08-02T19:13:32.704975Z",
     "iopub.status.busy": "2022-08-02T19:13:32.703858Z",
     "iopub.status.idle": "2022-08-02T19:13:32.736763Z",
     "shell.execute_reply": "2022-08-02T19:13:32.735794Z",
     "shell.execute_reply.started": "2022-08-02T19:13:32.704928Z"
    }
   },
   "outputs": [
    {
     "data": {
      "text/html": [
       "<div>\n",
       "<style scoped>\n",
       "    .dataframe tbody tr th:only-of-type {\n",
       "        vertical-align: middle;\n",
       "    }\n",
       "\n",
       "    .dataframe tbody tr th {\n",
       "        vertical-align: top;\n",
       "    }\n",
       "\n",
       "    .dataframe thead th {\n",
       "        text-align: right;\n",
       "    }\n",
       "</style>\n",
       "<table border=\"1\" class=\"dataframe\">\n",
       "  <thead>\n",
       "    <tr style=\"text-align: right;\">\n",
       "      <th></th>\n",
       "      <th>name</th>\n",
       "      <th>rating</th>\n",
       "      <th>genre</th>\n",
       "      <th>year</th>\n",
       "      <th>released</th>\n",
       "      <th>score</th>\n",
       "      <th>votes</th>\n",
       "      <th>director</th>\n",
       "      <th>writer</th>\n",
       "      <th>star</th>\n",
       "      <th>country</th>\n",
       "      <th>budget</th>\n",
       "      <th>gross</th>\n",
       "      <th>company</th>\n",
       "      <th>runtime</th>\n",
       "    </tr>\n",
       "  </thead>\n",
       "  <tbody>\n",
       "  </tbody>\n",
       "</table>\n",
       "</div>"
      ],
      "text/plain": [
       "Empty DataFrame\n",
       "Columns: [name, rating, genre, year, released, score, votes, director, writer, star, country, budget, gross, company, runtime]\n",
       "Index: []"
      ]
     },
     "execution_count": 25,
     "metadata": {},
     "output_type": "execute_result"
    }
   ],
   "source": [
    "# Let's check for duplicate values in the data\n",
    "\n",
    "movies_df[(movies_df.duplicated(keep = 'first'))]"
   ]
  },
  {
   "cell_type": "markdown",
   "metadata": {},
   "source": [
    "**No duplicate Values**"
   ]
  },
  {
   "cell_type": "markdown",
   "metadata": {},
   "source": [
    "### Statistical insights"
   ]
  },
  {
   "cell_type": "code",
   "execution_count": 26,
   "metadata": {
    "execution": {
     "iopub.execute_input": "2022-08-02T19:13:32.738897Z",
     "iopub.status.busy": "2022-08-02T19:13:32.738323Z",
     "iopub.status.idle": "2022-08-02T19:13:32.773708Z",
     "shell.execute_reply": "2022-08-02T19:13:32.772841Z",
     "shell.execute_reply.started": "2022-08-02T19:13:32.738864Z"
    }
   },
   "outputs": [
    {
     "data": {
      "text/html": [
       "<div>\n",
       "<style scoped>\n",
       "    .dataframe tbody tr th:only-of-type {\n",
       "        vertical-align: middle;\n",
       "    }\n",
       "\n",
       "    .dataframe tbody tr th {\n",
       "        vertical-align: top;\n",
       "    }\n",
       "\n",
       "    .dataframe thead th {\n",
       "        text-align: right;\n",
       "    }\n",
       "</style>\n",
       "<table border=\"1\" class=\"dataframe\">\n",
       "  <thead>\n",
       "    <tr style=\"text-align: right;\">\n",
       "      <th></th>\n",
       "      <th>year</th>\n",
       "      <th>score</th>\n",
       "      <th>votes</th>\n",
       "      <th>budget</th>\n",
       "      <th>gross</th>\n",
       "      <th>runtime</th>\n",
       "    </tr>\n",
       "  </thead>\n",
       "  <tbody>\n",
       "    <tr>\n",
       "      <th>count</th>\n",
       "      <td>5421.000000</td>\n",
       "      <td>5421.000000</td>\n",
       "      <td>5.421000e+03</td>\n",
       "      <td>5.421000e+03</td>\n",
       "      <td>5.421000e+03</td>\n",
       "      <td>5421.000000</td>\n",
       "    </tr>\n",
       "    <tr>\n",
       "      <th>mean</th>\n",
       "      <td>2001.661317</td>\n",
       "      <td>6.392455</td>\n",
       "      <td>1.150661e+05</td>\n",
       "      <td>3.600917e+07</td>\n",
       "      <td>1.032297e+08</td>\n",
       "      <td>108.152739</td>\n",
       "    </tr>\n",
       "    <tr>\n",
       "      <th>std</th>\n",
       "      <td>10.540908</td>\n",
       "      <td>0.962730</td>\n",
       "      <td>1.844073e+05</td>\n",
       "      <td>4.157337e+07</td>\n",
       "      <td>1.873027e+08</td>\n",
       "      <td>18.115698</td>\n",
       "    </tr>\n",
       "    <tr>\n",
       "      <th>min</th>\n",
       "      <td>1980.000000</td>\n",
       "      <td>1.900000</td>\n",
       "      <td>1.950000e+02</td>\n",
       "      <td>6.000000e+03</td>\n",
       "      <td>3.090000e+02</td>\n",
       "      <td>63.000000</td>\n",
       "    </tr>\n",
       "    <tr>\n",
       "      <th>25%</th>\n",
       "      <td>1993.000000</td>\n",
       "      <td>5.800000</td>\n",
       "      <td>1.900000e+04</td>\n",
       "      <td>1.000000e+07</td>\n",
       "      <td>1.073640e+07</td>\n",
       "      <td>95.000000</td>\n",
       "    </tr>\n",
       "    <tr>\n",
       "      <th>50%</th>\n",
       "      <td>2002.000000</td>\n",
       "      <td>6.500000</td>\n",
       "      <td>5.200000e+04</td>\n",
       "      <td>2.180000e+07</td>\n",
       "      <td>3.686941e+07</td>\n",
       "      <td>105.000000</td>\n",
       "    </tr>\n",
       "    <tr>\n",
       "      <th>75%</th>\n",
       "      <td>2011.000000</td>\n",
       "      <td>7.100000</td>\n",
       "      <td>1.290000e+05</td>\n",
       "      <td>4.500000e+07</td>\n",
       "      <td>1.124625e+08</td>\n",
       "      <td>118.000000</td>\n",
       "    </tr>\n",
       "    <tr>\n",
       "      <th>max</th>\n",
       "      <td>2020.000000</td>\n",
       "      <td>9.300000</td>\n",
       "      <td>2.400000e+06</td>\n",
       "      <td>3.560000e+08</td>\n",
       "      <td>2.847246e+09</td>\n",
       "      <td>271.000000</td>\n",
       "    </tr>\n",
       "  </tbody>\n",
       "</table>\n",
       "</div>"
      ],
      "text/plain": [
       "              year        score         votes        budget         gross  \\\n",
       "count  5421.000000  5421.000000  5.421000e+03  5.421000e+03  5.421000e+03   \n",
       "mean   2001.661317     6.392455  1.150661e+05  3.600917e+07  1.032297e+08   \n",
       "std      10.540908     0.962730  1.844073e+05  4.157337e+07  1.873027e+08   \n",
       "min    1980.000000     1.900000  1.950000e+02  6.000000e+03  3.090000e+02   \n",
       "25%    1993.000000     5.800000  1.900000e+04  1.000000e+07  1.073640e+07   \n",
       "50%    2002.000000     6.500000  5.200000e+04  2.180000e+07  3.686941e+07   \n",
       "75%    2011.000000     7.100000  1.290000e+05  4.500000e+07  1.124625e+08   \n",
       "max    2020.000000     9.300000  2.400000e+06  3.560000e+08  2.847246e+09   \n",
       "\n",
       "           runtime  \n",
       "count  5421.000000  \n",
       "mean    108.152739  \n",
       "std      18.115698  \n",
       "min      63.000000  \n",
       "25%      95.000000  \n",
       "50%     105.000000  \n",
       "75%     118.000000  \n",
       "max     271.000000  "
      ]
     },
     "execution_count": 26,
     "metadata": {},
     "output_type": "execute_result"
    }
   ],
   "source": [
    "# Statistical insights for numeric features\n",
    "\n",
    "movies_df.describe()"
   ]
  },
  {
   "cell_type": "markdown",
   "metadata": {},
   "source": [
    "**The dataset is from year 1980 to 2020**"
   ]
  },
  {
   "cell_type": "code",
   "execution_count": 27,
   "metadata": {
    "execution": {
     "iopub.execute_input": "2022-08-02T19:13:32.775399Z",
     "iopub.status.busy": "2022-08-02T19:13:32.775029Z",
     "iopub.status.idle": "2022-08-02T19:13:32.815169Z",
     "shell.execute_reply": "2022-08-02T19:13:32.814263Z",
     "shell.execute_reply.started": "2022-08-02T19:13:32.775359Z"
    }
   },
   "outputs": [
    {
     "data": {
      "text/html": [
       "<div>\n",
       "<style scoped>\n",
       "    .dataframe tbody tr th:only-of-type {\n",
       "        vertical-align: middle;\n",
       "    }\n",
       "\n",
       "    .dataframe tbody tr th {\n",
       "        vertical-align: top;\n",
       "    }\n",
       "\n",
       "    .dataframe thead th {\n",
       "        text-align: right;\n",
       "    }\n",
       "</style>\n",
       "<table border=\"1\" class=\"dataframe\">\n",
       "  <thead>\n",
       "    <tr style=\"text-align: right;\">\n",
       "      <th></th>\n",
       "      <th>name</th>\n",
       "      <th>rating</th>\n",
       "      <th>genre</th>\n",
       "      <th>released</th>\n",
       "      <th>director</th>\n",
       "      <th>writer</th>\n",
       "      <th>star</th>\n",
       "      <th>country</th>\n",
       "      <th>company</th>\n",
       "    </tr>\n",
       "  </thead>\n",
       "  <tbody>\n",
       "    <tr>\n",
       "      <th>count</th>\n",
       "      <td>5421</td>\n",
       "      <td>5421</td>\n",
       "      <td>5421</td>\n",
       "      <td>5421</td>\n",
       "      <td>5421</td>\n",
       "      <td>5421</td>\n",
       "      <td>5421</td>\n",
       "      <td>5421</td>\n",
       "      <td>5421</td>\n",
       "    </tr>\n",
       "    <tr>\n",
       "      <th>unique</th>\n",
       "      <td>5336</td>\n",
       "      <td>10</td>\n",
       "      <td>15</td>\n",
       "      <td>2560</td>\n",
       "      <td>2063</td>\n",
       "      <td>3205</td>\n",
       "      <td>1845</td>\n",
       "      <td>50</td>\n",
       "      <td>1475</td>\n",
       "    </tr>\n",
       "    <tr>\n",
       "      <th>top</th>\n",
       "      <td>Hercules</td>\n",
       "      <td>R</td>\n",
       "      <td>Comedy</td>\n",
       "      <td>August 26, 2016 (United States)</td>\n",
       "      <td>Woody Allen</td>\n",
       "      <td>Woody Allen</td>\n",
       "      <td>Nicolas Cage</td>\n",
       "      <td>United States</td>\n",
       "      <td>Universal Pictures</td>\n",
       "    </tr>\n",
       "    <tr>\n",
       "      <th>freq</th>\n",
       "      <td>3</td>\n",
       "      <td>2597</td>\n",
       "      <td>1496</td>\n",
       "      <td>7</td>\n",
       "      <td>33</td>\n",
       "      <td>32</td>\n",
       "      <td>40</td>\n",
       "      <td>4319</td>\n",
       "      <td>330</td>\n",
       "    </tr>\n",
       "  </tbody>\n",
       "</table>\n",
       "</div>"
      ],
      "text/plain": [
       "            name rating   genre                         released     director  \\\n",
       "count       5421   5421    5421                             5421         5421   \n",
       "unique      5336     10      15                             2560         2063   \n",
       "top     Hercules      R  Comedy  August 26, 2016 (United States)  Woody Allen   \n",
       "freq           3   2597    1496                                7           33   \n",
       "\n",
       "             writer          star        country             company  \n",
       "count          5421          5421           5421                5421  \n",
       "unique         3205          1845             50                1475  \n",
       "top     Woody Allen  Nicolas Cage  United States  Universal Pictures  \n",
       "freq             32            40           4319                 330  "
      ]
     },
     "execution_count": 27,
     "metadata": {},
     "output_type": "execute_result"
    }
   ],
   "source": [
    "# Statistical insights for non-numeric features\n",
    "\n",
    "movies_df.describe(exclude = \"number\")"
   ]
  },
  {
   "cell_type": "markdown",
   "metadata": {},
   "source": [
    "### Data Visualizations"
   ]
  },
  {
   "cell_type": "markdown",
   "metadata": {},
   "source": [
    "### Task 1: Movies Budget Vs Revenue"
   ]
  },
  {
   "cell_type": "code",
   "execution_count": 28,
   "metadata": {
    "execution": {
     "iopub.execute_input": "2022-08-02T19:13:32.817170Z",
     "iopub.status.busy": "2022-08-02T19:13:32.816302Z",
     "iopub.status.idle": "2022-08-02T19:13:33.138599Z",
     "shell.execute_reply": "2022-08-02T19:13:33.137367Z",
     "shell.execute_reply.started": "2022-08-02T19:13:32.817136Z"
    }
   },
   "outputs": [
    {
     "data": {
      "image/png": "[encoded data removed]",
      "text/plain": [
       "<Figure size 720x576 with 1 Axes>"
      ]
     },
     "metadata": {},
     "output_type": "display_data"
    }
   ],
   "source": [
    "# Do budgets on the movies affect the revenue generated from the movies?\n",
    "\n",
    "plt.subplots(figsize = (10, 8))\n",
    "plt.scatter(x = movies_df['gross'], y = movies_df['budget'], color = 'blue')\n",
    "plt.title('Movies Budget Vs Revenue')\n",
    "plt.xlabel('Gross')\n",
    "plt.ylabel('Budget')\n",
    "plt.show()"
   ]
  },
  {
   "cell_type": "code",
   "execution_count": 29,
   "metadata": {
    "execution": {
     "iopub.execute_input": "2022-08-02T19:13:33.141496Z",
     "iopub.status.busy": "2022-08-02T19:13:33.140276Z",
     "iopub.status.idle": "2022-08-02T19:13:33.795398Z",
     "shell.execute_reply": "2022-08-02T19:13:33.794478Z",
     "shell.execute_reply.started": "2022-08-02T19:13:33.141427Z"
    }
   },
   "outputs": [
    {
     "data": {
      "image/png": "[encoded data removed]",
      "text/plain": [
       "<Figure size 720x576 with 1 Axes>"
      ]
     },
     "metadata": {},
     "output_type": "display_data"
    }
   ],
   "source": [
    "# Let's see the full picture with a trendline\n",
    "\n",
    "plt.subplots(figsize = (10, 8))\n",
    "sns.regplot(x = movies_df['gross'], y = movies_df['budget'], color = 'blue')\n",
    "plt.title('Movies Budget Vs Revenue')\n",
    "plt.xlabel('Gross')\n",
    "plt.ylabel('Budget')\n",
    "plt.show()"
   ]
  },
  {
   "cell_type": "markdown",
   "metadata": {},
   "source": [
    "**There is a positive relationship between movies revenue and budget: as budget increases, revenue also increases**"
   ]
  },
  {
   "cell_type": "markdown",
   "metadata": {},
   "source": [
    "### Task 2: Movies Score Vs Revenue"
   ]
  },
  {
   "cell_type": "code",
   "execution_count": 30,
   "metadata": {
    "execution": {
     "iopub.execute_input": "2022-08-02T19:13:33.799308Z",
     "iopub.status.busy": "2022-08-02T19:13:33.798301Z",
     "iopub.status.idle": "2022-08-02T19:13:34.481941Z",
     "shell.execute_reply": "2022-08-02T19:13:34.480801Z",
     "shell.execute_reply.started": "2022-08-02T19:13:33.799272Z"
    }
   },
   "outputs": [
    {
     "data": {
      "image/png": "[encoded data removed]",
      "text/plain": [
       "<Figure size 720x576 with 1 Axes>"
      ]
     },
     "metadata": {},
     "output_type": "display_data"
    }
   ],
   "source": [
    "# Do movies' scores affect the revenue generated from the movies?\n",
    "\n",
    "plt.subplots(figsize = (10, 8))\n",
    "sns.regplot(x = movies_df['score'], y = movies_df['gross'], scatter_kws ={'color' : 'blue'}, line_kws = {'color' : 'red'} )\n",
    "plt.title('Movies Revenue Vs Score')\n",
    "plt.xlabel('Score')\n",
    "plt.ylabel('Gross')\n",
    "plt.show()"
   ]
  },
  {
   "cell_type": "markdown",
   "metadata": {},
   "source": [
    "**There is a negative relationship between movies revenue and score**"
   ]
  },
  {
   "cell_type": "markdown",
   "metadata": {},
   "source": [
    "### Task 3: Movies rating Vs Revenue"
   ]
  },
  {
   "cell_type": "code",
   "execution_count": 31,
   "metadata": {
    "execution": {
     "iopub.execute_input": "2022-08-02T19:13:34.483873Z",
     "iopub.status.busy": "2022-08-02T19:13:34.483559Z",
     "iopub.status.idle": "2022-08-02T19:13:34.827949Z",
     "shell.execute_reply": "2022-08-02T19:13:34.826877Z",
     "shell.execute_reply.started": "2022-08-02T19:13:34.483845Z"
    }
   },
   "outputs": [
    {
     "data": {
      "text/plain": [
       "Text(0.5, 1.0, 'Movies rating Vs Revenue')"
      ]
     },
     "execution_count": 31,
     "metadata": {},
     "output_type": "execute_result"
    },
    {
     "data": {
      "image/png": "[encoded data removed]",
      "text/plain": [
       "<Figure size 720x576 with 1 Axes>"
      ]
     },
     "metadata": {},
     "output_type": "display_data"
    }
   ],
   "source": [
    "# Do movies rating affect the revenue generated from the movies?\n",
    "\n",
    "plt.subplots(figsize = (10,8))\n",
    "sns.boxplot(x = 'rating', y = 'gross' , data = movies_df)\n",
    "plt.title('Movies rating Vs Revenue')"
   ]
  },
  {
   "cell_type": "markdown",
   "metadata": {},
   "source": [
    "**As median and max value for each category is close to 0, there is no relationship between movies revenue and rating**"
   ]
  },
  {
   "cell_type": "markdown",
   "metadata": {},
   "source": [
    "### Task 4: Other relationships in the data"
   ]
  },
  {
   "cell_type": "code",
   "execution_count": 32,
   "metadata": {
    "execution": {
     "iopub.execute_input": "2022-08-02T19:13:34.829888Z",
     "iopub.status.busy": "2022-08-02T19:13:34.829546Z",
     "iopub.status.idle": "2022-08-02T19:13:34.844769Z",
     "shell.execute_reply": "2022-08-02T19:13:34.843914Z",
     "shell.execute_reply.started": "2022-08-02T19:13:34.829857Z"
    }
   },
   "outputs": [
    {
     "data": {
      "text/html": [
       "<div>\n",
       "<style scoped>\n",
       "    .dataframe tbody tr th:only-of-type {\n",
       "        vertical-align: middle;\n",
       "    }\n",
       "\n",
       "    .dataframe tbody tr th {\n",
       "        vertical-align: top;\n",
       "    }\n",
       "\n",
       "    .dataframe thead th {\n",
       "        text-align: right;\n",
       "    }\n",
       "</style>\n",
       "<table border=\"1\" class=\"dataframe\">\n",
       "  <thead>\n",
       "    <tr style=\"text-align: right;\">\n",
       "      <th></th>\n",
       "      <th>year</th>\n",
       "      <th>score</th>\n",
       "      <th>votes</th>\n",
       "      <th>budget</th>\n",
       "      <th>gross</th>\n",
       "      <th>runtime</th>\n",
       "    </tr>\n",
       "  </thead>\n",
       "  <tbody>\n",
       "    <tr>\n",
       "      <th>year</th>\n",
       "      <td>1.000000</td>\n",
       "      <td>0.056386</td>\n",
       "      <td>0.206021</td>\n",
       "      <td>0.327722</td>\n",
       "      <td>0.274321</td>\n",
       "      <td>0.075077</td>\n",
       "    </tr>\n",
       "    <tr>\n",
       "      <th>score</th>\n",
       "      <td>0.056386</td>\n",
       "      <td>1.000000</td>\n",
       "      <td>0.474256</td>\n",
       "      <td>0.072001</td>\n",
       "      <td>0.222556</td>\n",
       "      <td>0.414068</td>\n",
       "    </tr>\n",
       "    <tr>\n",
       "      <th>votes</th>\n",
       "      <td>0.206021</td>\n",
       "      <td>0.474256</td>\n",
       "      <td>1.000000</td>\n",
       "      <td>0.439675</td>\n",
       "      <td>0.614751</td>\n",
       "      <td>0.352303</td>\n",
       "    </tr>\n",
       "    <tr>\n",
       "      <th>budget</th>\n",
       "      <td>0.327722</td>\n",
       "      <td>0.072001</td>\n",
       "      <td>0.439675</td>\n",
       "      <td>1.000000</td>\n",
       "      <td>0.740247</td>\n",
       "      <td>0.318695</td>\n",
       "    </tr>\n",
       "    <tr>\n",
       "      <th>gross</th>\n",
       "      <td>0.274321</td>\n",
       "      <td>0.222556</td>\n",
       "      <td>0.614751</td>\n",
       "      <td>0.740247</td>\n",
       "      <td>1.000000</td>\n",
       "      <td>0.275796</td>\n",
       "    </tr>\n",
       "    <tr>\n",
       "      <th>runtime</th>\n",
       "      <td>0.075077</td>\n",
       "      <td>0.414068</td>\n",
       "      <td>0.352303</td>\n",
       "      <td>0.318695</td>\n",
       "      <td>0.275796</td>\n",
       "      <td>1.000000</td>\n",
       "    </tr>\n",
       "  </tbody>\n",
       "</table>\n",
       "</div>"
      ],
      "text/plain": [
       "             year     score     votes    budget     gross   runtime\n",
       "year     1.000000  0.056386  0.206021  0.327722  0.274321  0.075077\n",
       "score    0.056386  1.000000  0.474256  0.072001  0.222556  0.414068\n",
       "votes    0.206021  0.474256  1.000000  0.439675  0.614751  0.352303\n",
       "budget   0.327722  0.072001  0.439675  1.000000  0.740247  0.318695\n",
       "gross    0.274321  0.222556  0.614751  0.740247  1.000000  0.275796\n",
       "runtime  0.075077  0.414068  0.352303  0.318695  0.275796  1.000000"
      ]
     },
     "execution_count": 32,
     "metadata": {},
     "output_type": "execute_result"
    }
   ],
   "source": [
    "# What other relationships can be shown?\n",
    "\n",
    "movies_correlation = movies_df.corr()\n",
    "movies_correlation"
   ]
  },
  {
   "cell_type": "code",
   "execution_count": 33,
   "metadata": {
    "execution": {
     "iopub.execute_input": "2022-08-02T19:13:34.846331Z",
     "iopub.status.busy": "2022-08-02T19:13:34.845985Z",
     "iopub.status.idle": "2022-08-02T19:13:35.277368Z",
     "shell.execute_reply": "2022-08-02T19:13:35.276126Z",
     "shell.execute_reply.started": "2022-08-02T19:13:34.846301Z"
    }
   },
   "outputs": [
    {
     "data": {
      "image/png": "[encoded data removed]",
      "text/plain": [
       "<Figure size 720x576 with 2 Axes>"
      ]
     },
     "metadata": {},
     "output_type": "display_data"
    }
   ],
   "source": [
    "# Showing the relationship as a heatmap\n",
    "\n",
    "plt.subplots(figsize = (10, 8))\n",
    "sns.heatmap(movies_correlation, annot = True, cmap = 'Blues')\n",
    "plt.title('Correlation Matrix for Numerical Features')\n",
    "plt.xlabel('Movie Features')\n",
    "plt.ylabel('Movie Features')\n",
    "plt.show()"
   ]
  },
  {
   "cell_type": "markdown",
   "metadata": {},
   "source": [
    "### Conclusions\n",
    "* There is a positive relationship between movies revenue and budget: as budget increases, revenue also increases\n",
    "* There is a negative relationship between movies revenue and score.\n",
    "* There is no relationship between movies revenue and rating"
   ]
  }
 ],
 "metadata": {
  "kernelspec": {
   "display_name": "Python 3 (ipykernel)",
   "language": "python",
   "name": "python3"
  },
  "language_info": {
   "codemirror_mode": {
    "name": "ipython",
    "version": 3
   },
   "file_extension": ".py",
   "mimetype": "text/x-python",
   "name": "python",
   "nbconvert_exporter": "python",
   "pygments_lexer": "ipython3",
   "version": "3.9.7"
  }
 },
 "nbformat": 4,
 "nbformat_minor": 4
}
